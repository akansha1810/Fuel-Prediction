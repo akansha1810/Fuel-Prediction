{
 "cells": [
  {
   "cell_type": "code",
   "execution_count": 1,
   "id": "fd555ccb-4b0a-4c20-85a7-7938eb42b521",
   "metadata": {},
   "outputs": [],
   "source": [
    "import pandas as pd\n",
    "import numpy as np\n",
    "from sklearn.model_selection import cross_val_score, GridSearchCV\n",
    "from sklearn.preprocessing import StandardScaler, OneHotEncoder\n",
    "from sklearn.compose import ColumnTransformer\n",
    "from sklearn.pipeline import Pipeline\n",
    "from sklearn.linear_model import LinearRegression, Ridge, Lasso\n",
    "from sklearn.tree import DecisionTreeRegressor\n",
    "from sklearn.ensemble import RandomForestRegressor, GradientBoostingRegressor\n",
    "from sklearn.svm import SVR\n",
    "from xgboost import XGBRegressor\n",
    "from lightgbm import LGBMRegressor\n",
    "from sklearn.metrics import r2_score, mean_squared_error, mean_absolute_percentage_error\n",
    "import warnings\n",
    "warnings.filterwarnings('ignore')"
   ]
  },
  {
   "cell_type": "code",
   "execution_count": 5,
   "id": "4b62be89-7c67-4a2b-bc8f-7903ed9ab0e1",
   "metadata": {},
   "outputs": [],
   "source": [
    "# Reading the Dataset :\n",
    "train_df = pd.read_csv(r\"E:\\Great learnings\\Projects\\fuel prediction data\\Train.csv\")\n",
    "test_df = pd.read_csv(r\"E:\\Great learnings\\Projects\\fuel prediction data\\Test.csv\")\n",
    "submission_df = pd.read_csv(r\"E:\\Great learnings\\Projects\\fuel prediction data\\Submission.csv\")"
   ]
  },
  {
   "cell_type": "code",
   "execution_count": 7,
   "id": "aa657c8d-0595-479c-8a63-ef878df24b5a",
   "metadata": {},
   "outputs": [],
   "source": [
    "# Separate features and target\n",
    "X_train = train_df.drop(columns=['fuel_efficiency_kmpl'])\n",
    "y_train = train_df['fuel_efficiency_kmpl']\n",
    "X_test = test_df.copy()"
   ]
  },
  {
   "cell_type": "code",
   "execution_count": 9,
   "id": "cd618343-29fc-497c-bbe4-6bcfdba6e796",
   "metadata": {},
   "outputs": [],
   "source": [
    "# Define columns\n",
    "categorical_cols = ['fuel_category', 'car_brand', 'transmission_type', 'exterior_color']\n",
    "numerical_cols = ['engine_capacity_cc', 'owner_count']"
   ]
  },
  {
   "cell_type": "code",
   "execution_count": 11,
   "id": "e3393895-9e48-45d8-a426-34150aa28441",
   "metadata": {},
   "outputs": [],
   "source": [
    "# Preprocessing pipeline\n",
    "preprocessor = ColumnTransformer(\n",
    "    transformers=[\n",
    "        ('cat', OneHotEncoder(drop='first', handle_unknown='ignore'), categorical_cols),\n",
    "        ('num', StandardScaler(), numerical_cols)\n",
    "    ])"
   ]
  },
  {
   "cell_type": "code",
   "execution_count": 15,
   "id": "e7071fda-2661-4b31-9d4a-a413a8b4898d",
   "metadata": {},
   "outputs": [],
   "source": [
    "# Define models to evaluate\n",
    "models = {\n",
    "    'Linear Regression': LinearRegression(),\n",
    "    'Ridge Regression': Ridge(),\n",
    "    'Lasso Regression': Lasso(),\n",
    "    'Decision Tree': DecisionTreeRegressor(random_state=42),\n",
    "    'Random Forest': RandomForestRegressor(random_state=42),\n",
    "    'Gradient Boosting': GradientBoostingRegressor(random_state=42),\n",
    "    'XGBoost': XGBRegressor(random_state=42),\n",
    "    'LightGBM': LGBMRegressor(random_state=42, verbose=-1),\n",
    "    'SVR': SVR()}"
   ]
  },
  {
   "cell_type": "code",
   "execution_count": 17,
   "id": "3456de2d-0d76-44e8-8d5f-767427a3d7f8",
   "metadata": {},
   "outputs": [],
   "source": [
    "# Evaluate models using cross-validation\n",
    "results = []\n",
    "for name, model in models.items():\n",
    "    pipeline = Pipeline(steps=[\n",
    "        ('preprocessor', preprocessor),\n",
    "        ('regressor', model)\n",
    "    ])"
   ]
  },
  {
   "cell_type": "code",
   "execution_count": 21,
   "id": "840bf085-dfc9-4d27-8d91-1a9bd63c34fb",
   "metadata": {},
   "outputs": [
    {
     "name": "stdout",
     "output_type": "stream",
     "text": [
      "SVR: CV R² = -0.0183, Train MSE = 23.1061, Train MAPE = 0.2687\n"
     ]
    }
   ],
   "source": [
    "# Cross-validated R²\n",
    "cv_r2 = cross_val_score(pipeline, X_train, y_train, cv=5, scoring='r2').mean()\n",
    "# Fit model to compute additional metrics\n",
    "pipeline.fit(X_train, y_train)\n",
    "y_pred = pipeline.predict(X_train)\n",
    "mse = mean_squared_error(y_train, y_pred)\n",
    "mape = mean_absolute_percentage_error(y_train, y_pred)\n",
    "results.append({\n",
    "    'Model': name,\n",
    "    'CV R²': cv_r2,\n",
    "    'Train MSE': mse,\n",
    "    'Train MAPE': mape})\n",
    "print(f\"{name}: CV R² = {cv_r2:.4f}, Train MSE = {mse:.4f}, Train MAPE = {mape:.4f}\")\n"
   ]
  },
  {
   "cell_type": "code",
   "execution_count": 22,
   "id": "a2b4c297-2e54-41d8-886c-20d5bd87c3fa",
   "metadata": {},
   "outputs": [
    {
     "name": "stdout",
     "output_type": "stream",
     "text": [
      "\n",
      "Model Comparison:\n",
      "  Model     CV R²  Train MSE  Train MAPE\n",
      "0   SVR -0.018327  23.106063    0.268672\n"
     ]
    }
   ],
   "source": [
    "# Convert results to DataFrame\n",
    "results_df = pd.DataFrame(results)\n",
    "print(\"\\nModel Comparison:\")\n",
    "print(results_df.sort_values(by='CV R²', ascending=False))"
   ]
  },
  {
   "cell_type": "code",
   "execution_count": 23,
   "id": "61d9a5f8-9339-432d-92ed-d9001973edcd",
   "metadata": {},
   "outputs": [
    {
     "name": "stdout",
     "output_type": "stream",
     "text": [
      "\n",
      "Best Model: SVR\n"
     ]
    }
   ],
   "source": [
    "# Select the best model based on CV R²\n",
    "best_model_name = results_df.loc[results_df['CV R²'].idxmax(), 'Model']\n",
    "print(f\"\\nBest Model: {best_model_name}\")"
   ]
  },
  {
   "cell_type": "code",
   "execution_count": 24,
   "id": "e064e3ea-5808-4aba-a317-2fcbf44b7143",
   "metadata": {},
   "outputs": [],
   "source": [
    "# Hyperparameter tuning for top models (Random Forest, XGBoost, LightGBM, Gradient Boosting)\n",
    "tuning_params = {\n",
    "    'Random Forest': {\n",
    "        'regressor__n_estimators': [100, 200],\n",
    "        'regressor__max_depth': [None, 10, 20]\n",
    "    },\n",
    "    'Gradient Boosting': {\n",
    "        'regressor__n_estimators': [100, 200],\n",
    "        'regressor__learning_rate': [0.01, 0.1],\n",
    "        'regressor__max_depth': [3, 5]\n",
    "    },\n",
    "    'XGBoost': {\n",
    "        'regressor__n_estimators': [100, 200],\n",
    "        'regressor__learning_rate': [0.01, 0.1],\n",
    "        'regressor__max_depth': [3, 5]\n",
    "    },\n",
    "    'LightGBM': {\n",
    "        'regressor__n_estimators': [100, 200],\n",
    "        'regressor__learning_rate': [0.01, 0.1],\n",
    "        'regressor__max_depth': [3, 5]\n",
    "    }\n",
    "}\n",
    "\n",
    "if best_model_name in tuning_params:\n",
    "    print(f\"\\nTuning hyperparameters for {best_model_name}...\")\n",
    "    pipeline = Pipeline(steps=[\n",
    "        ('preprocessor', preprocessor),\n",
    "        ('regressor', models[best_model_name])\n",
    "    ])\n",
    "    grid_search = GridSearchCV(\n",
    "        pipeline,\n",
    "        tuning_params[best_model_name],\n",
    "        cv=5,\n",
    "        scoring='r2',\n",
    "        n_jobs=-1\n",
    "    )\n",
    "    grid_search.fit(X_train, y_train)\n",
    "    best_model = grid_search.best_estimator_\n",
    "    best_cv_r2 = grid_search.best_score_\n",
    "    print(f\"Best parameters: {grid_search.best_params_}\")\n",
    "    print(f\"Tuned CV R²: {best_cv_r2:.4f}\")\n",
    "else:\n",
    "    best_model = Pipeline(steps=[\n",
    "        ('preprocessor', preprocessor),\n",
    "        ('regressor', models[best_model_name])\n",
    "    ])\n",
    "    best_model.fit(X_train, y_train)\n",
    "    best_cv_r2 = results_df.loc[results_df['Model'] == best_model_name, 'CV R²'].values[0]"
   ]
  },
  {
   "cell_type": "code",
   "execution_count": 25,
   "id": "e227b105-54b1-46a3-82c3-fa226af24c63",
   "metadata": {},
   "outputs": [
    {
     "name": "stdout",
     "output_type": "stream",
     "text": [
      "\n",
      "Final SVR Performance on Training Data:\n",
      "R²: 0.0263\n",
      "MSE: 23.1061\n",
      "MAPE: 0.2687\n"
     ]
    }
   ],
   "source": [
    "# Final evaluation on training data\n",
    "y_pred = best_model.predict(X_train)\n",
    "final_r2 = r2_score(y_train, y_pred)\n",
    "final_mse = mean_squared_error(y_train, y_pred)\n",
    "final_mape = mean_absolute_percentage_error(y_train, y_pred)\n",
    "print(f\"\\nFinal {best_model_name} Performance on Training Data:\")\n",
    "print(f\"R²: {final_r2:.4f}\")\n",
    "print(f\"MSE: {final_mse:.4f}\")\n",
    "print(f\"MAPE: {final_mape:.4f}\")"
   ]
  },
  {
   "cell_type": "code",
   "execution_count": 26,
   "id": "fced458b-59ea-4694-8306-ee854bc2c59e",
   "metadata": {},
   "outputs": [
    {
     "name": "stdout",
     "output_type": "stream",
     "text": [
      "\n",
      "Test Predictions (first 5 rows):\n",
      "   engine_capacity_cc fuel_category  owner_count car_brand transmission_type  \\\n",
      "0                1500      Electric            3       Kia         Automatic   \n",
      "1                1000        Diesel            3      Ford         Automatic   \n",
      "2                 800        Petrol            5    Nissan         Automatic   \n",
      "3                1500      Electric            5     Tesla            Manual   \n",
      "4                3000        Petrol            3      Ford            Manual   \n",
      "\n",
      "  exterior_color  fuel_efficiency_kmpl  predicted_fuel_efficiency_kmpl  \n",
      "0          Black                   NaN                       17.424911  \n",
      "1         Silver                   NaN                       18.069015  \n",
      "2          Black                   NaN                       17.582531  \n",
      "3           Blue                   NaN                       19.008192  \n",
      "4         Silver                   NaN                       18.787700  \n"
     ]
    }
   ],
   "source": [
    "# Generate predictions on test data\n",
    "predictions = best_model.predict(X_test)\n",
    "output_df = test_df.copy()\n",
    "output_df['predicted_fuel_efficiency_kmpl'] = predictions\n",
    "output_df.to_csv('Test_predictions_best_model.csv', index=False)\n",
    "print(\"\\nTest Predictions (first 5 rows):\")\n",
    "print(output_df.head())"
   ]
  },
  {
   "cell_type": "code",
   "execution_count": 27,
   "id": "34e549ae-aa79-40da-bfb8-2f9cd66bff0f",
   "metadata": {},
   "outputs": [],
   "source": [
    "# Save model performance summary\n",
    "results_df.to_csv('model_performance_summary.csv', index=False)"
   ]
  },
  {
   "cell_type": "code",
   "execution_count": null,
   "id": "79f65cb6-eb9a-4d4d-8ea6-0a806747c4f8",
   "metadata": {},
   "outputs": [],
   "source": []
  }
 ],
 "metadata": {
  "kernelspec": {
   "display_name": "Python [conda env:base] *",
   "language": "python",
   "name": "conda-base-py"
  },
  "language_info": {
   "codemirror_mode": {
    "name": "ipython",
    "version": 3
   },
   "file_extension": ".py",
   "mimetype": "text/x-python",
   "name": "python",
   "nbconvert_exporter": "python",
   "pygments_lexer": "ipython3",
   "version": "3.12.7"
  }
 },
 "nbformat": 4,
 "nbformat_minor": 5
}
